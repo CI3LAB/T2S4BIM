{
 "cells": [
  {
   "cell_type": "code",
   "execution_count": 1,
   "metadata": {},
   "outputs": [],
   "source": [
    "import pandas as pd\n",
    "import numpy as np\n",
    "from sklearn import svm\n",
    "from sklearn.metrics import accuracy_score\n",
    "import json\n",
    "import os\n",
    "import random"
   ]
  },
  {
   "cell_type": "code",
   "execution_count": 2,
   "metadata": {},
   "outputs": [],
   "source": [
    "def set_seed(seed):\n",
    "    random.seed(seed)\n",
    "    np.random.seed(seed)"
   ]
  },
  {
   "cell_type": "code",
   "execution_count": 3,
   "metadata": {},
   "outputs": [],
   "source": [
    "def load_embedding(em_path):\n",
    "    char2vec_file = os.path.join(em_path, 'char2vec_file.mat.npy')\n",
    "    word2id_file=os.path.join(em_path, 'word2id.npy')\n",
    "\n",
    "    char2vec_mat=np.load(char2vec_file)\n",
    "    word2id=np.load(word2id_file).tolist()\n",
    "    id2word={id:word for id, word in enumerate(word2id)}\n",
    "\n",
    "    return char2vec_mat, word2id, id2word"
   ]
  },
  {
   "cell_type": "code",
   "execution_count": 4,
   "metadata": {},
   "outputs": [],
   "source": [
    "def prepare_data(data_path, model_path, type, split):\n",
    "    all_labels_intent = ['creation', \"modification\", \"deletion\", \"retrieval\"]\n",
    "    all_lables_element = ['ceiling', 'column', 'door', 'floor', 'ramp', 'roof', 'stair', 'wall', 'window']\n",
    "    \n",
    "    if type == 'intent':\n",
    "        all_labels = all_labels_intent\n",
    "    elif type == 'element':\n",
    "        all_labels = all_lables_element\n",
    "    else:\n",
    "        raise ValueError(\"type should be either 'intent' or 'element'\")\n",
    "\n",
    "    label2idx = {tag: idx for idx, tag in enumerate(all_labels)}\n",
    "    idx2label = {idx: tag for idx, tag in enumerate(all_labels)}\n",
    "\n",
    "    with open(os.path.join(data_path, split + \".json\"), 'r', encoding='utf-8') as f:\n",
    "        data = json.load(f)\n",
    "    \n",
    "    vec_mat, word2id, id2word=load_embedding(model_path)\n",
    "    vec_mat = vec_mat\n",
    "    word2id = word2id\n",
    "    id2word = id2word\n",
    "\n",
    "    texts = []\n",
    "    labels = []\n",
    "    for d in data:\n",
    "        texts.append(d['text'])\n",
    "        if type == 'intent':\n",
    "            labels.append(d['label']['intent'])\n",
    "        elif type == 'element':\n",
    "            labels.append(d['label']['element'])\n",
    "        else:\n",
    "            raise ValueError(\"type should be either 'intent' or 'element'\")\n",
    "    \n",
    "    labels = [label2idx[label] for label in labels]\n",
    "    \n",
    "    return texts, labels\n",
    "    "
   ]
  },
  {
   "cell_type": "code",
   "execution_count": 5,
   "metadata": {},
   "outputs": [],
   "source": [
    "def sample_data(X_train, Y_train, sample_ratio, seed):\n",
    "    if sample_ratio > 0:\n",
    "        random.seed(seed)\n",
    "        sample_num = int(len(X_train) * sample_ratio)\n",
    "        sample_idx = random.sample(range(len(X_train)), sample_num)\n",
    "        X_train = [X_train[i] for i in sample_idx]\n",
    "        Y_train = [Y_train[i] for i in sample_idx]\n",
    "    return X_train, Y_train"
   ]
  },
  {
   "cell_type": "code",
   "execution_count": 6,
   "metadata": {},
   "outputs": [],
   "source": [
    "def convert_to_array(texts, labels, em_path):\n",
    "    vec_mat, word2id, id2word = load_embedding(em_path)\n",
    "    vec_mat = vec_mat\n",
    "    word2id = word2id\n",
    "    id2word = id2word\n",
    "\n",
    "    X = []\n",
    "    for text in texts:\n",
    "        text = text.split(' ')\n",
    "        vec = np.zeros((len(text), vec_mat.shape[1]))\n",
    "        for i, word in enumerate(text):\n",
    "            if word in word2id:\n",
    "                vec[i] = vec_mat[word2id.index(word)]\n",
    "            else:\n",
    "                vec[i] = vec_mat[word2id.index('<UNK>')]\n",
    "        vec = np.mean(vec, axis=0)\n",
    "        X.append(vec)\n",
    "    \n",
    "    X = np.array(X)\n",
    "    Y = np.array(labels)\n",
    "    \n",
    "    return X, Y"
   ]
  },
  {
   "cell_type": "code",
   "execution_count": 7,
   "metadata": {},
   "outputs": [],
   "source": [
    "data_path = '../dataset/data/user'\n",
    "em_path = './pretrained/en'\n",
    "\n",
    "train_texts, train_labels = prepare_data(data_path, em_path, 'intent', 'train')\n",
    "test_texts, test_labels = prepare_data(data_path, em_path, 'intent', 'test')\n",
    "X_train_all, Y_train_all = convert_to_array(train_texts, train_labels, em_path)\n",
    "X_test, Y_test = convert_to_array(test_texts, test_labels, em_path)"
   ]
  },
  {
   "cell_type": "code",
   "execution_count": 10,
   "metadata": {},
   "outputs": [
    {
     "name": "stdout",
     "output_type": "stream",
     "text": [
      "sample_ratio: 1, seed: 1, accuracy: 0.9962962962962963\n",
      "sample_ratio: 1, seed: 2, accuracy: 0.9962962962962963\n",
      "sample_ratio: 1, seed: 3, accuracy: 0.9962962962962963\n",
      "sample_ratio: 1, seed: 4, accuracy: 0.9962962962962963\n",
      "sample_ratio: 1, seed: 5, accuracy: 0.9962962962962963\n",
      "sample_ratio: 0.8, seed: 1, accuracy: 0.9944444444444445\n",
      "sample_ratio: 0.8, seed: 2, accuracy: 0.9981481481481481\n",
      "sample_ratio: 0.8, seed: 3, accuracy: 1.0\n",
      "sample_ratio: 0.8, seed: 4, accuracy: 0.9981481481481481\n",
      "sample_ratio: 0.8, seed: 5, accuracy: 0.9962962962962963\n",
      "sample_ratio: 0.6, seed: 1, accuracy: 0.9925925925925926\n",
      "sample_ratio: 0.6, seed: 2, accuracy: 1.0\n",
      "sample_ratio: 0.6, seed: 3, accuracy: 0.9981481481481481\n",
      "sample_ratio: 0.6, seed: 4, accuracy: 0.9981481481481481\n",
      "sample_ratio: 0.6, seed: 5, accuracy: 0.9925925925925926\n",
      "sample_ratio: 0.4, seed: 1, accuracy: 0.9925925925925926\n",
      "sample_ratio: 0.4, seed: 2, accuracy: 0.9962962962962963\n",
      "sample_ratio: 0.4, seed: 3, accuracy: 0.9981481481481481\n",
      "sample_ratio: 0.4, seed: 4, accuracy: 0.9888888888888889\n",
      "sample_ratio: 0.4, seed: 5, accuracy: 0.9944444444444445\n",
      "sample_ratio: 0.2, seed: 1, accuracy: 0.9888888888888889\n",
      "sample_ratio: 0.2, seed: 2, accuracy: 0.9888888888888889\n",
      "sample_ratio: 0.2, seed: 3, accuracy: 0.9907407407407407\n",
      "sample_ratio: 0.2, seed: 4, accuracy: 0.9851851851851852\n",
      "sample_ratio: 0.2, seed: 5, accuracy: 0.9888888888888889\n",
      "sample_ratio: 0.1, seed: 1, accuracy: 0.9907407407407407\n",
      "sample_ratio: 0.1, seed: 2, accuracy: 0.9833333333333333\n",
      "sample_ratio: 0.1, seed: 3, accuracy: 0.9777777777777777\n",
      "sample_ratio: 0.1, seed: 4, accuracy: 0.975925925925926\n",
      "sample_ratio: 0.1, seed: 5, accuracy: 0.9907407407407407\n",
      "sample_ratio: 0.05, seed: 1, accuracy: 0.9888888888888889\n",
      "sample_ratio: 0.05, seed: 2, accuracy: 0.9648148148148148\n",
      "sample_ratio: 0.05, seed: 3, accuracy: 0.9814814814814815\n",
      "sample_ratio: 0.05, seed: 4, accuracy: 0.9740740740740741\n",
      "sample_ratio: 0.05, seed: 5, accuracy: 0.9851851851851852\n",
      "sample_ratio: 0.02, seed: 1, accuracy: 0.9611111111111111\n",
      "sample_ratio: 0.02, seed: 2, accuracy: 0.9574074074074074\n",
      "sample_ratio: 0.02, seed: 3, accuracy: 0.9796296296296296\n",
      "sample_ratio: 0.02, seed: 4, accuracy: 0.9629629629629629\n",
      "sample_ratio: 0.02, seed: 5, accuracy: 0.9722222222222222\n",
      "sample_ratio: 0.01, seed: 1, accuracy: 0.9055555555555556\n",
      "sample_ratio: 0.01, seed: 2, accuracy: 0.9037037037037037\n",
      "sample_ratio: 0.01, seed: 3, accuracy: 0.8018518518518518\n",
      "sample_ratio: 0.01, seed: 4, accuracy: 0.8648148148148148\n",
      "sample_ratio: 0.01, seed: 5, accuracy: 0.8944444444444445\n"
     ]
    }
   ],
   "source": [
    "for sample_ratio in [1, 0.8, 0.6, 0.4, 0.2, 0.1, 0.05, 0.02, 0.01]:\n",
    "    for seed in range(1, 6):\n",
    "        X_train, Y_train = sample_data(X_train_all, Y_train_all, sample_ratio, seed)\n",
    "\n",
    "        clf = svm.SVC(kernel='linear', C=1.0, random_state=seed)\n",
    "        clf.fit(X_train, Y_train)\n",
    "        Y_pred = clf.predict(X_test)\n",
    "        acc = accuracy_score(Y_test, Y_pred)\n",
    "        print(f\"sample_ratio: {sample_ratio}, seed: {seed}, accuracy: {acc}\")"
   ]
  },
  {
   "cell_type": "code",
   "execution_count": null,
   "metadata": {},
   "outputs": [],
   "source": []
  },
  {
   "cell_type": "code",
   "execution_count": 11,
   "metadata": {},
   "outputs": [],
   "source": [
    "data_path = '../dataset/data/user'\n",
    "em_path = './pretrained/en'\n",
    "\n",
    "train_texts, train_labels = prepare_data(data_path, em_path, 'element', 'train')\n",
    "test_texts, test_labels = prepare_data(data_path, em_path, 'element', 'test')\n",
    "X_train_all, Y_train_all = convert_to_array(train_texts, train_labels, em_path)\n",
    "X_test, Y_test = convert_to_array(test_texts, test_labels, em_path)"
   ]
  },
  {
   "cell_type": "code",
   "execution_count": 12,
   "metadata": {},
   "outputs": [
    {
     "name": "stdout",
     "output_type": "stream",
     "text": [
      "sample_ratio: 1, seed: 1, accuracy: 0.9092592592592592\n",
      "sample_ratio: 1, seed: 2, accuracy: 0.9092592592592592\n",
      "sample_ratio: 1, seed: 3, accuracy: 0.9092592592592592\n",
      "sample_ratio: 1, seed: 4, accuracy: 0.9092592592592592\n",
      "sample_ratio: 1, seed: 5, accuracy: 0.9092592592592592\n",
      "sample_ratio: 0.8, seed: 1, accuracy: 0.9074074074074074\n",
      "sample_ratio: 0.8, seed: 2, accuracy: 0.912962962962963\n",
      "sample_ratio: 0.8, seed: 3, accuracy: 0.9111111111111111\n",
      "sample_ratio: 0.8, seed: 4, accuracy: 0.9092592592592592\n",
      "sample_ratio: 0.8, seed: 5, accuracy: 0.9111111111111111\n",
      "sample_ratio: 0.6, seed: 1, accuracy: 0.8981481481481481\n",
      "sample_ratio: 0.6, seed: 2, accuracy: 0.9\n",
      "sample_ratio: 0.6, seed: 3, accuracy: 0.9111111111111111\n",
      "sample_ratio: 0.6, seed: 4, accuracy: 0.9092592592592592\n",
      "sample_ratio: 0.6, seed: 5, accuracy: 0.9055555555555556\n",
      "sample_ratio: 0.4, seed: 1, accuracy: 0.8851851851851852\n",
      "sample_ratio: 0.4, seed: 2, accuracy: 0.8796296296296297\n",
      "sample_ratio: 0.4, seed: 3, accuracy: 0.8981481481481481\n",
      "sample_ratio: 0.4, seed: 4, accuracy: 0.8833333333333333\n",
      "sample_ratio: 0.4, seed: 5, accuracy: 0.8907407407407407\n",
      "sample_ratio: 0.2, seed: 1, accuracy: 0.8592592592592593\n",
      "sample_ratio: 0.2, seed: 2, accuracy: 0.85\n",
      "sample_ratio: 0.2, seed: 3, accuracy: 0.8703703703703703\n",
      "sample_ratio: 0.2, seed: 4, accuracy: 0.8592592592592593\n",
      "sample_ratio: 0.2, seed: 5, accuracy: 0.8629629629629629\n",
      "sample_ratio: 0.1, seed: 1, accuracy: 0.8055555555555556\n",
      "sample_ratio: 0.1, seed: 2, accuracy: 0.8074074074074075\n",
      "sample_ratio: 0.1, seed: 3, accuracy: 0.7981481481481482\n",
      "sample_ratio: 0.1, seed: 4, accuracy: 0.7814814814814814\n",
      "sample_ratio: 0.1, seed: 5, accuracy: 0.8203703703703704\n",
      "sample_ratio: 0.05, seed: 1, accuracy: 0.6962962962962963\n",
      "sample_ratio: 0.05, seed: 2, accuracy: 0.6833333333333333\n",
      "sample_ratio: 0.05, seed: 3, accuracy: 0.7018518518518518\n",
      "sample_ratio: 0.05, seed: 4, accuracy: 0.6666666666666666\n",
      "sample_ratio: 0.05, seed: 5, accuracy: 0.687037037037037\n",
      "sample_ratio: 0.02, seed: 1, accuracy: 0.4074074074074074\n",
      "sample_ratio: 0.02, seed: 2, accuracy: 0.4\n",
      "sample_ratio: 0.02, seed: 3, accuracy: 0.45555555555555555\n",
      "sample_ratio: 0.02, seed: 4, accuracy: 0.4703703703703704\n",
      "sample_ratio: 0.02, seed: 5, accuracy: 0.47962962962962963\n",
      "sample_ratio: 0.01, seed: 1, accuracy: 0.31296296296296294\n",
      "sample_ratio: 0.01, seed: 2, accuracy: 0.2\n",
      "sample_ratio: 0.01, seed: 3, accuracy: 0.2814814814814815\n",
      "sample_ratio: 0.01, seed: 4, accuracy: 0.29814814814814816\n",
      "sample_ratio: 0.01, seed: 5, accuracy: 0.29444444444444445\n"
     ]
    }
   ],
   "source": [
    "for sample_ratio in [1, 0.8, 0.6, 0.4, 0.2, 0.1, 0.05, 0.02, 0.01]:\n",
    "    for seed in range(1, 6):\n",
    "        X_train, Y_train = sample_data(X_train_all, Y_train_all, sample_ratio, seed)\n",
    "\n",
    "        clf = svm.SVC(kernel='linear', C=1.0, random_state=seed)\n",
    "        clf.fit(X_train, Y_train)\n",
    "        Y_pred = clf.predict(X_test)\n",
    "        acc = accuracy_score(Y_test, Y_pred)\n",
    "        print(f\"sample_ratio: {sample_ratio}, seed: {seed}, accuracy: {acc}\")"
   ]
  },
  {
   "cell_type": "code",
   "execution_count": null,
   "metadata": {},
   "outputs": [],
   "source": []
  },
  {
   "cell_type": "code",
   "execution_count": null,
   "metadata": {},
   "outputs": [],
   "source": []
  }
 ],
 "metadata": {
  "kernelspec": {
   "display_name": "Python 3",
   "language": "python",
   "name": "python3"
  },
  "language_info": {
   "codemirror_mode": {
    "name": "ipython",
    "version": 3
   },
   "file_extension": ".py",
   "mimetype": "text/x-python",
   "name": "python",
   "nbconvert_exporter": "python",
   "pygments_lexer": "ipython3",
   "version": "3.8.18"
  }
 },
 "nbformat": 4,
 "nbformat_minor": 2
}
